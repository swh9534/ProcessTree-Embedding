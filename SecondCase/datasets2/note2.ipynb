{
 "cells": [
  {
   "cell_type": "code",
   "execution_count": 1,
   "metadata": {},
   "outputs": [],
   "source": [
    "import os\n",
    "\n",
    "os.chdir(\"C:\\\\Users\\\\82105\\\\Desktop\\\\광운대\\\\ProcessTreeEmbedding_0\\\\SecondCase\")"
   ]
  },
  {
   "cell_type": "code",
   "execution_count": 33,
   "metadata": {},
   "outputs": [
    {
     "name": "stdout",
     "output_type": "stream",
     "text": [
      "C:\\Users\\82105\\Desktop\\광운대\\ProcessTreeEmbedding_0\\SecondCase\\length_17_22\\1_metadata.txt\n",
      "C:\\Users\\82105\\Desktop\\광운대\\ProcessTreeEmbedding_0\\SecondCase\\length_17_22\\2_metadata.txt\n",
      "C:\\Users\\82105\\Desktop\\광운대\\ProcessTreeEmbedding_0\\SecondCase\\length_17_22\\3_metadata.txt\n",
      "C:\\Users\\82105\\Desktop\\광운대\\ProcessTreeEmbedding_0\\SecondCase\\length_17_22\\4_metadata.txt\n",
      "C:\\Users\\82105\\Desktop\\광운대\\ProcessTreeEmbedding_0\\SecondCase\\length_17_22\\5_metadata.txt\n"
     ]
    }
   ],
   "source": [
    "import os\n",
    "import glob\n",
    "import re\n",
    "\n",
    "folder_path = \"C:\\\\Users\\\\82105\\\\Desktop\\\\광운대\\\\ProcessTreeEmbedding_0\\\\SecondCase\\\\length_17_22\"\n",
    "\n",
    "file_path_list = glob.glob(os.path.join(folder_path, \"*.txt\"))\n",
    "result_lists = []\n",
    "\n",
    "for file_path in file_path_list:\n",
    "    result_list = []\n",
    "    print(file_path)\n",
    "    with open(file_path, 'r') as file:\n",
    "        next(file)\n",
    "        for line in file:\n",
    "            pattern = r'\\((.*?)\\)'\n",
    "            matches = re.findall(pattern, line, flags=0)\n",
    "            matches = str(matches[0]).replace(\"->\", \"\\u2192\")\n",
    "            if matches:\n",
    "                result_list.append(matches.replace('\"', \"\"))\n",
    "\n",
    "    result_lists.append(result_list)\n",
    "    \n",
    "BPIC15_1 = result_lists[0]\n",
    "BPIC15_2 = result_lists[1]\n",
    "BPIC15_3 = result_lists[2]\n",
    "BPIC15_4 = result_lists[3]\n",
    "BPIC15_5 = result_lists[4]"
   ]
  },
  {
   "cell_type": "code",
   "execution_count": 34,
   "metadata": {},
   "outputs": [
    {
     "data": {
      "text/plain": [
       "\"'BPIC15_1_rev/process_tree_case_size_betwee_17_and_22_noise_1.svg', →( +( 'forward to the competent authority', 'phase application received', 'register submission date request', X( tau, 'enter senddate decision procedure term extension' \""
      ]
     },
     "execution_count": 34,
     "metadata": {},
     "output_type": "execute_result"
    }
   ],
   "source": [
    "BPIC15_1[0]"
   ]
  },
  {
   "cell_type": "code",
   "execution_count": null,
   "metadata": {},
   "outputs": [],
   "source": []
  }
 ],
 "metadata": {
  "kernelspec": {
   "display_name": "PTE2",
   "language": "python",
   "name": "python3"
  },
  "language_info": {
   "codemirror_mode": {
    "name": "ipython",
    "version": 3
   },
   "file_extension": ".py",
   "mimetype": "text/x-python",
   "name": "python",
   "nbconvert_exporter": "python",
   "pygments_lexer": "ipython3",
   "version": "3.12.3"
  }
 },
 "nbformat": 4,
 "nbformat_minor": 2
}
