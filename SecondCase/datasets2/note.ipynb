{
 "cells": [
  {
   "cell_type": "code",
   "execution_count": 2,
   "metadata": {},
   "outputs": [],
   "source": [
    "import os\n",
    "\n",
    "os.chdir(\"C:\\\\Users\\\\82105\\\\Desktop\\\\광운대\\\\ProcessTreeEmbedding_0\\\\SecondCase\")\n"
   ]
  },
  {
   "cell_type": "code",
   "execution_count": 3,
   "metadata": {},
   "outputs": [
    {
     "data": {
      "application/vnd.jupyter.widget-view+json": {
       "model_id": "3b7eb387682f4380973c87b91e3b9d82",
       "version_major": 2,
       "version_minor": 0
      },
      "text/plain": [
       "parsing log, completed traces ::   0%|          | 0/1199 [00:00<?, ?it/s]"
      ]
     },
     "metadata": {},
     "output_type": "display_data"
    },
    {
     "name": "stdout",
     "output_type": "stream",
     "text": [
      "quantiles =  [0.   0.05 0.1  0.15 0.2  0.25 0.3  0.35 0.4  0.45 0.5  0.55 0.6  0.65\n",
      " 0.7  0.75 0.8  0.85 0.9  0.95 1.  ]\n",
      "intervals =  [(7.0, 7.4), (7.4, 8.0), (8.0, 10.200000000000001), (10.200000000000001, 11.600000000000001), (11.600000000000001, 12.0), (12.0, 12.0), (12.0, 12.8), (12.8, 13.200000000000001), (13.200000000000001, 14.0), (14.0, 14.0), (14.0, 14.0), (14.0, 14.800000000000004), (14.800000000000004, 15.400000000000006), (15.399999999999999, 17.6), (17.6, 18.000000000000004), (18.0, 19.0), (19.0, 19.800000000000004), (19.800000000000004, 20.0), (20.0, 21.200000000000003), (21.200000000000003, 22.0)]\n"
     ]
    },
    {
     "data": {
      "application/vnd.jupyter.widget-view+json": {
       "model_id": "8d10d101d5b647c6aac6189e0be8406e",
       "version_major": 2,
       "version_minor": 0
      },
      "text/plain": [
       "parsing log, completed traces ::   0%|          | 0/832 [00:00<?, ?it/s]"
      ]
     },
     "metadata": {},
     "output_type": "display_data"
    },
    {
     "name": "stdout",
     "output_type": "stream",
     "text": [
      "quantiles =  [0.   0.05 0.1  0.15 0.2  0.25 0.3  0.35 0.4  0.45 0.5  0.55 0.6  0.65\n",
      " 0.7  0.75 0.8  0.85 0.9  0.95 1.  ]\n",
      "intervals =  [(7.0, 7.35), (7.35, 8.0), (8.0, 10.05), (10.05, 11.4), (11.4, 12.0), (12.0, 12.0), (12.0, 12.450000000000001), (12.450000000000001, 13.0), (13.0, 14.0), (14.0, 14.0), (14.0, 14.0), (14.0, 14.200000000000003), (14.200000000000003, 15.0), (15.0, 16.800000000000004), (16.800000000000004, 18.0), (18.0, 18.6), (18.6, 19.950000000000003), (19.950000000000003, 20.0), (20.0, 21.300000000000004), (21.300000000000004, 22.0)]\n"
     ]
    },
    {
     "data": {
      "application/vnd.jupyter.widget-view+json": {
       "model_id": "6e32473a13b44a77be6a810fdc79b489",
       "version_major": 2,
       "version_minor": 0
      },
      "text/plain": [
       "parsing log, completed traces ::   0%|          | 0/1409 [00:00<?, ?it/s]"
      ]
     },
     "metadata": {},
     "output_type": "display_data"
    },
    {
     "name": "stdout",
     "output_type": "stream",
     "text": [
      "quantiles =  [0.   0.05 0.1  0.15 0.2  0.25 0.3  0.35 0.4  0.45 0.5  0.55 0.6  0.65\n",
      " 0.7  0.75 0.8  0.85 0.9  0.95 1.  ]\n",
      "intervals =  [(7.0, 7.4), (7.4, 8.0), (8.0, 10.200000000000001), (10.200000000000001, 11.600000000000001), (11.600000000000001, 12.0), (12.0, 12.0), (12.0, 12.8), (12.8, 13.200000000000001), (13.200000000000001, 14.0), (14.0, 14.0), (14.0, 14.0), (14.0, 14.800000000000004), (14.800000000000004, 15.400000000000006), (15.399999999999999, 17.6), (17.6, 18.000000000000004), (18.0, 19.0), (19.0, 19.800000000000004), (19.800000000000004, 20.0), (20.0, 21.200000000000003), (21.200000000000003, 22.0)]\n"
     ]
    },
    {
     "data": {
      "application/vnd.jupyter.widget-view+json": {
       "model_id": "2aaff71bc19c40a78f53bb85f91c89da",
       "version_major": 2,
       "version_minor": 0
      },
      "text/plain": [
       "parsing log, completed traces ::   0%|          | 0/1053 [00:00<?, ?it/s]"
      ]
     },
     "metadata": {},
     "output_type": "display_data"
    },
    {
     "name": "stdout",
     "output_type": "stream",
     "text": [
      "quantiles =  [0.   0.05 0.1  0.15 0.2  0.25 0.3  0.35 0.4  0.45 0.5  0.55 0.6  0.65\n",
      " 0.7  0.75 0.8  0.85 0.9  0.95 1.  ]\n",
      "intervals =  [(7.0, 7.4), (7.4, 8.0), (8.0, 10.200000000000001), (10.200000000000001, 11.600000000000001), (11.600000000000001, 12.0), (12.0, 12.0), (12.0, 12.8), (12.8, 13.200000000000001), (13.200000000000001, 14.0), (14.0, 14.0), (14.0, 14.0), (14.0, 14.800000000000004), (14.800000000000004, 15.400000000000006), (15.399999999999999, 17.6), (17.6, 18.000000000000004), (18.0, 19.0), (19.0, 19.800000000000004), (19.800000000000004, 20.0), (20.0, 21.200000000000003), (21.200000000000003, 22.0)]\n"
     ]
    },
    {
     "data": {
      "application/vnd.jupyter.widget-view+json": {
       "model_id": "024b00dccde34b7a8e14fa2abb314d88",
       "version_major": 2,
       "version_minor": 0
      },
      "text/plain": [
       "parsing log, completed traces ::   0%|          | 0/1156 [00:00<?, ?it/s]"
      ]
     },
     "metadata": {},
     "output_type": "display_data"
    },
    {
     "name": "stdout",
     "output_type": "stream",
     "text": [
      "quantiles =  [0.   0.05 0.1  0.15 0.2  0.25 0.3  0.35 0.4  0.45 0.5  0.55 0.6  0.65\n",
      " 0.7  0.75 0.8  0.85 0.9  0.95 1.  ]\n",
      "intervals =  [(7.0, 7.4), (7.4, 8.0), (8.0, 10.200000000000001), (10.200000000000001, 11.600000000000001), (11.600000000000001, 12.0), (12.0, 12.0), (12.0, 12.8), (12.8, 13.200000000000001), (13.200000000000001, 14.0), (14.0, 14.0), (14.0, 14.0), (14.0, 14.800000000000004), (14.800000000000004, 15.400000000000006), (15.399999999999999, 17.6), (17.6, 18.000000000000004), (18.0, 19.0), (19.0, 19.800000000000004), (19.800000000000004, 20.0), (20.0, 21.200000000000003), (21.200000000000003, 22.0)]\n"
     ]
    }
   ],
   "source": [
    "import pm4py\n",
    "import numpy as np\n",
    "import math\n",
    "import os\n",
    "\n",
    "# Load the event log\n",
    "LOG_FILENAMES = [f'BPIC15_{i}_rev' for i in range(1, 6)]\n",
    "\n",
    "for LOG_FILENAME in LOG_FILENAMES:\n",
    "    log = pm4py.read_xes(f'data/{LOG_FILENAME}.xes')\n",
    "    # Define different filtering and mining options\n",
    "    noise_thresholds = []\n",
    "    NUM_THRESHOLD = 100\n",
    "    for i in range(1, NUM_THRESHOLD):\n",
    "        noise_thresholds.append(i/NUM_THRESHOLD)\n",
    "\n",
    "    case_sizes = [len(trace) for trace in log]\n",
    "\n",
    "    # Define the number of intervals you want\n",
    "    NUM_INTERVALS = 20\n",
    "\n",
    "    # Calculate the quantiles\n",
    "    quantiles = np.linspace(0, 1, NUM_INTERVALS+1)\n",
    "    print(\"quantiles = \", quantiles)\n",
    "    # Calculate the intervals\n",
    "    intervals = [(np.quantile(case_sizes, q), np.quantile(case_sizes, q+1/NUM_INTERVALS)) for q in quantiles[:-1]]\n",
    "\n",
    "    print(\"intervals = \", intervals)"
   ]
  },
  {
   "cell_type": "code",
   "execution_count": null,
   "metadata": {},
   "outputs": [],
   "source": []
  }
 ],
 "metadata": {
  "kernelspec": {
   "display_name": "PTE2",
   "language": "python",
   "name": "python3"
  },
  "language_info": {
   "codemirror_mode": {
    "name": "ipython",
    "version": 3
   },
   "file_extension": ".py",
   "mimetype": "text/x-python",
   "name": "python",
   "nbconvert_exporter": "python",
   "pygments_lexer": "ipython3",
   "version": "undefined.undefined.undefined"
  }
 },
 "nbformat": 4,
 "nbformat_minor": 2
}
